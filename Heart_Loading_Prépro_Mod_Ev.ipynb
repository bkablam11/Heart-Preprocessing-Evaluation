{
 "cells": [
  {
   "cell_type": "markdown",
   "id": "9413f9fb",
   "metadata": {},
   "source": [
    "### 0.Librairies"
   ]
  },
  {
   "cell_type": "code",
   "execution_count": 1,
   "id": "288e3ec1",
   "metadata": {},
   "outputs": [],
   "source": [
    "# Step 1: Import the required modules\n",
    "import pandas as pd\n",
    "import numpy as np\n",
    "import matplotlib.pyplot as plt\n",
    "import os\n",
    "from sklearn.model_selection import train_test_split\n",
    "from sklearn.metrics import f1_score, confusion_matrix, classification_report\n",
    "from sklearn.model_selection import learning_curve\n",
    "from sklearn.preprocessing import StandardScaler\n",
    "from sklearn.linear_model import LogisticRegression\n",
    "import warnings\n",
    "warnings.filterwarnings('ignore')\n",
    "from IPython.display import Image"
   ]
  },
  {
   "cell_type": "markdown",
   "id": "ffa516ba",
   "metadata": {},
   "source": [
    "### 1. Loading Data"
   ]
  },
  {
   "cell_type": "code",
   "execution_count": 2,
   "id": "e8dc314d",
   "metadata": {},
   "outputs": [],
   "source": [
    "# Step 2: Generate the dataset\n",
    "os.chdir('C:/Users/Simplonco/Documents/jupyter-notebook/datasets')\n",
    "data = pd.read_table('heart.txt')"
   ]
  },
  {
   "cell_type": "code",
   "execution_count": 3,
   "id": "f5aa46c4",
   "metadata": {},
   "outputs": [
    {
     "data": {
      "text/html": [
       "<div>\n",
       "<style scoped>\n",
       "    .dataframe tbody tr th:only-of-type {\n",
       "        vertical-align: middle;\n",
       "    }\n",
       "\n",
       "    .dataframe tbody tr th {\n",
       "        vertical-align: top;\n",
       "    }\n",
       "\n",
       "    .dataframe thead th {\n",
       "        text-align: right;\n",
       "    }\n",
       "</style>\n",
       "<table border=\"1\" class=\"dataframe\">\n",
       "  <thead>\n",
       "    <tr style=\"text-align: right;\">\n",
       "      <th></th>\n",
       "      <th>age</th>\n",
       "      <th>sexe</th>\n",
       "      <th>pression</th>\n",
       "      <th>cholester</th>\n",
       "      <th>sucre</th>\n",
       "      <th>electro</th>\n",
       "      <th>taux_max</th>\n",
       "      <th>angine</th>\n",
       "      <th>depression</th>\n",
       "      <th>pic</th>\n",
       "      <th>vaisseau</th>\n",
       "      <th>coeur</th>\n",
       "    </tr>\n",
       "  </thead>\n",
       "  <tbody>\n",
       "    <tr>\n",
       "      <th>0</th>\n",
       "      <td>58</td>\n",
       "      <td>masculin</td>\n",
       "      <td>100</td>\n",
       "      <td>234</td>\n",
       "      <td>A</td>\n",
       "      <td>A</td>\n",
       "      <td>156</td>\n",
       "      <td>non</td>\n",
       "      <td>1</td>\n",
       "      <td>1</td>\n",
       "      <td>B</td>\n",
       "      <td>presence</td>\n",
       "    </tr>\n",
       "    <tr>\n",
       "      <th>1</th>\n",
       "      <td>41</td>\n",
       "      <td>feminin</td>\n",
       "      <td>130</td>\n",
       "      <td>204</td>\n",
       "      <td>A</td>\n",
       "      <td>C</td>\n",
       "      <td>172</td>\n",
       "      <td>non</td>\n",
       "      <td>14</td>\n",
       "      <td>1</td>\n",
       "      <td>A</td>\n",
       "      <td>absence</td>\n",
       "    </tr>\n",
       "    <tr>\n",
       "      <th>2</th>\n",
       "      <td>58</td>\n",
       "      <td>masculin</td>\n",
       "      <td>150</td>\n",
       "      <td>270</td>\n",
       "      <td>A</td>\n",
       "      <td>C</td>\n",
       "      <td>111</td>\n",
       "      <td>oui</td>\n",
       "      <td>8</td>\n",
       "      <td>1</td>\n",
       "      <td>A</td>\n",
       "      <td>presence</td>\n",
       "    </tr>\n",
       "    <tr>\n",
       "      <th>3</th>\n",
       "      <td>53</td>\n",
       "      <td>masculin</td>\n",
       "      <td>140</td>\n",
       "      <td>203</td>\n",
       "      <td>B</td>\n",
       "      <td>C</td>\n",
       "      <td>155</td>\n",
       "      <td>oui</td>\n",
       "      <td>31</td>\n",
       "      <td>3</td>\n",
       "      <td>A</td>\n",
       "      <td>presence</td>\n",
       "    </tr>\n",
       "    <tr>\n",
       "      <th>4</th>\n",
       "      <td>41</td>\n",
       "      <td>masculin</td>\n",
       "      <td>130</td>\n",
       "      <td>214</td>\n",
       "      <td>A</td>\n",
       "      <td>C</td>\n",
       "      <td>168</td>\n",
       "      <td>non</td>\n",
       "      <td>20</td>\n",
       "      <td>2</td>\n",
       "      <td>A</td>\n",
       "      <td>absence</td>\n",
       "    </tr>\n",
       "    <tr>\n",
       "      <th>...</th>\n",
       "      <td>...</td>\n",
       "      <td>...</td>\n",
       "      <td>...</td>\n",
       "      <td>...</td>\n",
       "      <td>...</td>\n",
       "      <td>...</td>\n",
       "      <td>...</td>\n",
       "      <td>...</td>\n",
       "      <td>...</td>\n",
       "      <td>...</td>\n",
       "      <td>...</td>\n",
       "      <td>...</td>\n",
       "    </tr>\n",
       "    <tr>\n",
       "      <th>265</th>\n",
       "      <td>62</td>\n",
       "      <td>feminin</td>\n",
       "      <td>140</td>\n",
       "      <td>268</td>\n",
       "      <td>A</td>\n",
       "      <td>C</td>\n",
       "      <td>160</td>\n",
       "      <td>non</td>\n",
       "      <td>36</td>\n",
       "      <td>3</td>\n",
       "      <td>C</td>\n",
       "      <td>presence</td>\n",
       "    </tr>\n",
       "    <tr>\n",
       "      <th>266</th>\n",
       "      <td>62</td>\n",
       "      <td>masculin</td>\n",
       "      <td>130</td>\n",
       "      <td>231</td>\n",
       "      <td>A</td>\n",
       "      <td>A</td>\n",
       "      <td>146</td>\n",
       "      <td>non</td>\n",
       "      <td>18</td>\n",
       "      <td>2</td>\n",
       "      <td>D</td>\n",
       "      <td>absence</td>\n",
       "    </tr>\n",
       "    <tr>\n",
       "      <th>267</th>\n",
       "      <td>64</td>\n",
       "      <td>masculin</td>\n",
       "      <td>110</td>\n",
       "      <td>211</td>\n",
       "      <td>A</td>\n",
       "      <td>C</td>\n",
       "      <td>144</td>\n",
       "      <td>oui</td>\n",
       "      <td>18</td>\n",
       "      <td>2</td>\n",
       "      <td>A</td>\n",
       "      <td>absence</td>\n",
       "    </tr>\n",
       "    <tr>\n",
       "      <th>268</th>\n",
       "      <td>63</td>\n",
       "      <td>feminin</td>\n",
       "      <td>150</td>\n",
       "      <td>407</td>\n",
       "      <td>A</td>\n",
       "      <td>C</td>\n",
       "      <td>154</td>\n",
       "      <td>non</td>\n",
       "      <td>40</td>\n",
       "      <td>2</td>\n",
       "      <td>D</td>\n",
       "      <td>presence</td>\n",
       "    </tr>\n",
       "    <tr>\n",
       "      <th>269</th>\n",
       "      <td>35</td>\n",
       "      <td>feminin</td>\n",
       "      <td>138</td>\n",
       "      <td>183</td>\n",
       "      <td>A</td>\n",
       "      <td>A</td>\n",
       "      <td>182</td>\n",
       "      <td>non</td>\n",
       "      <td>14</td>\n",
       "      <td>1</td>\n",
       "      <td>A</td>\n",
       "      <td>absence</td>\n",
       "    </tr>\n",
       "  </tbody>\n",
       "</table>\n",
       "<p>270 rows × 12 columns</p>\n",
       "</div>"
      ],
      "text/plain": [
       "     age      sexe  pression  cholester sucre electro  taux_max angine  \\\n",
       "0     58  masculin       100        234     A       A       156    non   \n",
       "1     41   feminin       130        204     A       C       172    non   \n",
       "2     58  masculin       150        270     A       C       111    oui   \n",
       "3     53  masculin       140        203     B       C       155    oui   \n",
       "4     41  masculin       130        214     A       C       168    non   \n",
       "..   ...       ...       ...        ...   ...     ...       ...    ...   \n",
       "265   62   feminin       140        268     A       C       160    non   \n",
       "266   62  masculin       130        231     A       A       146    non   \n",
       "267   64  masculin       110        211     A       C       144    oui   \n",
       "268   63   feminin       150        407     A       C       154    non   \n",
       "269   35   feminin       138        183     A       A       182    non   \n",
       "\n",
       "     depression  pic vaisseau     coeur  \n",
       "0             1    1        B  presence  \n",
       "1            14    1        A   absence  \n",
       "2             8    1        A  presence  \n",
       "3            31    3        A  presence  \n",
       "4            20    2        A   absence  \n",
       "..          ...  ...      ...       ...  \n",
       "265          36    3        C  presence  \n",
       "266          18    2        D   absence  \n",
       "267          18    2        A   absence  \n",
       "268          40    2        D  presence  \n",
       "269          14    1        A   absence  \n",
       "\n",
       "[270 rows x 12 columns]"
      ]
     },
     "execution_count": 3,
     "metadata": {},
     "output_type": "execute_result"
    }
   ],
   "source": [
    "# Step 3: Make Copy\n",
    "df = data.copy()\n",
    "df"
   ]
  },
  {
   "cell_type": "markdown",
   "id": "1c64264a",
   "metadata": {},
   "source": [
    "### 1.1 Exploration Data Analysis"
   ]
  },
  {
   "cell_type": "code",
   "execution_count": 4,
   "id": "7355f877",
   "metadata": {
    "scrolled": true
   },
   "outputs": [
    {
     "name": "stdout",
     "output_type": "stream",
     "text": [
      "<class 'pandas.core.frame.DataFrame'>\n",
      "RangeIndex: 270 entries, 0 to 269\n",
      "Data columns (total 12 columns):\n",
      " #   Column      Non-Null Count  Dtype \n",
      "---  ------      --------------  ----- \n",
      " 0   age         270 non-null    int64 \n",
      " 1   sexe        270 non-null    object\n",
      " 2   pression    270 non-null    int64 \n",
      " 3   cholester   270 non-null    int64 \n",
      " 4   sucre       270 non-null    object\n",
      " 5   electro     270 non-null    object\n",
      " 6   taux_max    270 non-null    int64 \n",
      " 7   angine      270 non-null    object\n",
      " 8   depression  270 non-null    int64 \n",
      " 9   pic         270 non-null    int64 \n",
      " 10  vaisseau    270 non-null    object\n",
      " 11  coeur       270 non-null    object\n",
      "dtypes: int64(6), object(6)\n",
      "memory usage: 25.4+ KB\n"
     ]
    },
    {
     "data": {
      "text/html": [
       "<div>\n",
       "<style scoped>\n",
       "    .dataframe tbody tr th:only-of-type {\n",
       "        vertical-align: middle;\n",
       "    }\n",
       "\n",
       "    .dataframe tbody tr th {\n",
       "        vertical-align: top;\n",
       "    }\n",
       "\n",
       "    .dataframe thead th {\n",
       "        text-align: right;\n",
       "    }\n",
       "</style>\n",
       "<table border=\"1\" class=\"dataframe\">\n",
       "  <thead>\n",
       "    <tr style=\"text-align: right;\">\n",
       "      <th></th>\n",
       "      <th>sexe</th>\n",
       "      <th>sucre</th>\n",
       "      <th>electro</th>\n",
       "      <th>angine</th>\n",
       "      <th>vaisseau</th>\n",
       "      <th>coeur</th>\n",
       "    </tr>\n",
       "  </thead>\n",
       "  <tbody>\n",
       "    <tr>\n",
       "      <th>count</th>\n",
       "      <td>270</td>\n",
       "      <td>270</td>\n",
       "      <td>270</td>\n",
       "      <td>270</td>\n",
       "      <td>270</td>\n",
       "      <td>270</td>\n",
       "    </tr>\n",
       "    <tr>\n",
       "      <th>unique</th>\n",
       "      <td>2</td>\n",
       "      <td>2</td>\n",
       "      <td>3</td>\n",
       "      <td>2</td>\n",
       "      <td>4</td>\n",
       "      <td>2</td>\n",
       "    </tr>\n",
       "    <tr>\n",
       "      <th>top</th>\n",
       "      <td>masculin</td>\n",
       "      <td>A</td>\n",
       "      <td>C</td>\n",
       "      <td>non</td>\n",
       "      <td>A</td>\n",
       "      <td>absence</td>\n",
       "    </tr>\n",
       "    <tr>\n",
       "      <th>freq</th>\n",
       "      <td>183</td>\n",
       "      <td>230</td>\n",
       "      <td>137</td>\n",
       "      <td>181</td>\n",
       "      <td>160</td>\n",
       "      <td>150</td>\n",
       "    </tr>\n",
       "  </tbody>\n",
       "</table>\n",
       "</div>"
      ],
      "text/plain": [
       "            sexe sucre electro angine vaisseau    coeur\n",
       "count        270   270     270    270      270      270\n",
       "unique         2     2       3      2        4        2\n",
       "top     masculin     A       C    non        A  absence\n",
       "freq         183   230     137    181      160      150"
      ]
     },
     "execution_count": 4,
     "metadata": {},
     "output_type": "execute_result"
    }
   ],
   "source": [
    "# Setp 3.1: Informations about df\n",
    "df.info()\n",
    "df.describe(include='object')"
   ]
  },
  {
   "cell_type": "code",
   "execution_count": 5,
   "id": "0651693d",
   "metadata": {},
   "outputs": [
    {
     "data": {
      "text/html": [
       "<div>\n",
       "<style scoped>\n",
       "    .dataframe tbody tr th:only-of-type {\n",
       "        vertical-align: middle;\n",
       "    }\n",
       "\n",
       "    .dataframe tbody tr th {\n",
       "        vertical-align: top;\n",
       "    }\n",
       "\n",
       "    .dataframe thead th {\n",
       "        text-align: right;\n",
       "    }\n",
       "</style>\n",
       "<table border=\"1\" class=\"dataframe\">\n",
       "  <thead>\n",
       "    <tr style=\"text-align: right;\">\n",
       "      <th></th>\n",
       "      <th>age</th>\n",
       "      <th>pression</th>\n",
       "      <th>cholester</th>\n",
       "      <th>taux_max</th>\n",
       "      <th>depression</th>\n",
       "      <th>pic</th>\n",
       "    </tr>\n",
       "  </thead>\n",
       "  <tbody>\n",
       "    <tr>\n",
       "      <th>count</th>\n",
       "      <td>270.000000</td>\n",
       "      <td>270.000000</td>\n",
       "      <td>270.000000</td>\n",
       "      <td>270.000000</td>\n",
       "      <td>270.000000</td>\n",
       "      <td>270.000000</td>\n",
       "    </tr>\n",
       "    <tr>\n",
       "      <th>mean</th>\n",
       "      <td>54.433333</td>\n",
       "      <td>131.344444</td>\n",
       "      <td>249.659259</td>\n",
       "      <td>149.677778</td>\n",
       "      <td>10.500000</td>\n",
       "      <td>1.585185</td>\n",
       "    </tr>\n",
       "    <tr>\n",
       "      <th>std</th>\n",
       "      <td>9.109067</td>\n",
       "      <td>17.861608</td>\n",
       "      <td>51.686237</td>\n",
       "      <td>23.165717</td>\n",
       "      <td>11.452098</td>\n",
       "      <td>0.614390</td>\n",
       "    </tr>\n",
       "    <tr>\n",
       "      <th>min</th>\n",
       "      <td>29.000000</td>\n",
       "      <td>94.000000</td>\n",
       "      <td>126.000000</td>\n",
       "      <td>71.000000</td>\n",
       "      <td>0.000000</td>\n",
       "      <td>1.000000</td>\n",
       "    </tr>\n",
       "    <tr>\n",
       "      <th>25%</th>\n",
       "      <td>48.000000</td>\n",
       "      <td>120.000000</td>\n",
       "      <td>213.000000</td>\n",
       "      <td>133.000000</td>\n",
       "      <td>0.000000</td>\n",
       "      <td>1.000000</td>\n",
       "    </tr>\n",
       "    <tr>\n",
       "      <th>50%</th>\n",
       "      <td>55.000000</td>\n",
       "      <td>130.000000</td>\n",
       "      <td>245.000000</td>\n",
       "      <td>153.500000</td>\n",
       "      <td>8.000000</td>\n",
       "      <td>2.000000</td>\n",
       "    </tr>\n",
       "    <tr>\n",
       "      <th>75%</th>\n",
       "      <td>61.000000</td>\n",
       "      <td>140.000000</td>\n",
       "      <td>280.000000</td>\n",
       "      <td>166.000000</td>\n",
       "      <td>16.000000</td>\n",
       "      <td>2.000000</td>\n",
       "    </tr>\n",
       "    <tr>\n",
       "      <th>max</th>\n",
       "      <td>77.000000</td>\n",
       "      <td>200.000000</td>\n",
       "      <td>564.000000</td>\n",
       "      <td>202.000000</td>\n",
       "      <td>62.000000</td>\n",
       "      <td>3.000000</td>\n",
       "    </tr>\n",
       "  </tbody>\n",
       "</table>\n",
       "</div>"
      ],
      "text/plain": [
       "              age    pression   cholester    taux_max  depression         pic\n",
       "count  270.000000  270.000000  270.000000  270.000000  270.000000  270.000000\n",
       "mean    54.433333  131.344444  249.659259  149.677778   10.500000    1.585185\n",
       "std      9.109067   17.861608   51.686237   23.165717   11.452098    0.614390\n",
       "min     29.000000   94.000000  126.000000   71.000000    0.000000    1.000000\n",
       "25%     48.000000  120.000000  213.000000  133.000000    0.000000    1.000000\n",
       "50%     55.000000  130.000000  245.000000  153.500000    8.000000    2.000000\n",
       "75%     61.000000  140.000000  280.000000  166.000000   16.000000    2.000000\n",
       "max     77.000000  200.000000  564.000000  202.000000   62.000000    3.000000"
      ]
     },
     "execution_count": 5,
     "metadata": {},
     "output_type": "execute_result"
    }
   ],
   "source": [
    "df.describe(include=np.number)"
   ]
  },
  {
   "cell_type": "code",
   "execution_count": 6,
   "id": "029fbf6a",
   "metadata": {
    "scrolled": true
   },
   "outputs": [
    {
     "data": {
      "text/plain": [
       "<matplotlib.collections.PathCollection at 0x25e691c3520>"
      ]
     },
     "execution_count": 6,
     "metadata": {},
     "output_type": "execute_result"
    },
    {
     "data": {
      "image/png": "[encoded data removed]",
      "text/plain": [
       "<Figure size 432x288 with 1 Axes>"
      ]
     },
     "metadata": {
      "needs_background": "light"
     },
     "output_type": "display_data"
    }
   ],
   "source": [
    "plt.scatter(df.age, df.coeur)"
   ]
  },
  {
   "cell_type": "code",
   "execution_count": 7,
   "id": "aff98469",
   "metadata": {},
   "outputs": [
    {
     "data": {
      "image/png": "[encoded data removed]",
      "text/plain": [
       "<Figure size 432x288 with 1 Axes>"
      ]
     },
     "metadata": {
      "needs_background": "light"
     },
     "output_type": "display_data"
    },
    {
     "data": {
      "image/png": "[encoded data removed]",
      "text/plain": [
       "<Figure size 432x288 with 1 Axes>"
      ]
     },
     "metadata": {
      "needs_background": "light"
     },
     "output_type": "display_data"
    },
    {
     "data": {
      "image/png": "[encoded data removed]",
      "text/plain": [
       "<Figure size 432x288 with 1 Axes>"
      ]
     },
     "metadata": {
      "needs_background": "light"
     },
     "output_type": "display_data"
    },
    {
     "data": {
      "image/png": "[encoded data removed]",
      "text/plain": [
       "<Figure size 432x288 with 1 Axes>"
      ]
     },
     "metadata": {
      "needs_background": "light"
     },
     "output_type": "display_data"
    },
    {
     "data": {
      "image/png": "[encoded data removed]",
      "text/plain": [
       "<Figure size 432x288 with 1 Axes>"
      ]
     },
     "metadata": {
      "needs_background": "light"
     },
     "output_type": "display_data"
    },
    {
     "data": {
      "image/png": "[encoded data removed]",
      "text/plain": [
       "<Figure size 432x288 with 1 Axes>"
      ]
     },
     "metadata": {
      "needs_background": "light"
     },
     "output_type": "display_data"
    },
    {
     "data": {
      "image/png": "[encoded data removed]",
      "text/plain": [
       "<Figure size 432x288 with 1 Axes>"
      ]
     },
     "metadata": {
      "needs_background": "light"
     },
     "output_type": "display_data"
    },
    {
     "data": {
      "image/png": "[encoded data removed]",
      "text/plain": [
       "<Figure size 432x288 with 1 Axes>"
      ]
     },
     "metadata": {
      "needs_background": "light"
     },
     "output_type": "display_data"
    },
    {
     "data": {
      "image/png": "[encoded data removed]",
      "text/plain": [
       "<Figure size 432x288 with 1 Axes>"
      ]
     },
     "metadata": {
      "needs_background": "light"
     },
     "output_type": "display_data"
    },
    {
     "data": {
      "image/png": "[encoded data removed]",
      "text/plain": [
       "<Figure size 432x288 with 1 Axes>"
      ]
     },
     "metadata": {
      "needs_background": "light"
     },
     "output_type": "display_data"
    },
    {
     "data": {
      "image/png": "[encoded data removed]",
      "text/plain": [
       "<Figure size 432x288 with 1 Axes>"
      ]
     },
     "metadata": {
      "needs_background": "light"
     },
     "output_type": "display_data"
    }
   ],
   "source": [
    "# Inflence des variables independantes sur la variable cible\n",
    "var = ['age', 'sexe', 'pression', 'cholester', 'sucre', 'electro',\n",
    "       'taux_max', 'angine', 'depression', 'pic', 'vaisseau']\n",
    "for col in var:\n",
    "    table = pd.crosstab(df[col], df['coeur'])\n",
    "    table.div(table.sum(axis='columns').astype(float), axis=0).plot(kind='bar', stacked=True)\n",
    "    plt.title(str(col) + ' / coeur')\n",
    "    plt.xlabel(str(col))\n",
    "    plt.ylabel('coeur')"
   ]
  },
  {
   "cell_type": "markdown",
   "id": "c3a25767",
   "metadata": {},
   "source": [
    "### 2. PréProcessing"
   ]
  },
  {
   "cell_type": "code",
   "execution_count": 8,
   "id": "5962352a",
   "metadata": {},
   "outputs": [],
   "source": [
    "# Step 3: Séparate qualitatif and quantitatif features\n",
    "def sep_quanti_quali(data):\n",
    "    quali_var = []\n",
    "    quanti_var = []\n",
    "    for i in data.columns:\n",
    "        if data[i].dtypes == 'object':\n",
    "            quali_var.append(i)\n",
    "        else:\n",
    "            quanti_var.append(i)\n",
    "    return print(f'variables_qualitatives = {quali_var},variables_quantitatives = {quanti_var}') \n",
    "# retouner le resultat du return pour d'autres fonction -- pipeline"
   ]
  },
  {
   "cell_type": "code",
   "execution_count": 9,
   "id": "f99ff5d4",
   "metadata": {},
   "outputs": [
    {
     "name": "stdout",
     "output_type": "stream",
     "text": [
      "variables_qualitatives = ['sexe', 'sucre', 'electro', 'angine', 'vaisseau', 'coeur'],variables_quantitatives = ['age', 'pression', 'cholester', 'taux_max', 'depression', 'pic']\n"
     ]
    }
   ],
   "source": [
    "sep_quanti_quali(df)"
   ]
  },
  {
   "cell_type": "code",
   "execution_count": 10,
   "id": "d5b11caa",
   "metadata": {
    "scrolled": false
   },
   "outputs": [
    {
     "data": {
      "text/html": [
       "<div>\n",
       "<style scoped>\n",
       "    .dataframe tbody tr th:only-of-type {\n",
       "        vertical-align: middle;\n",
       "    }\n",
       "\n",
       "    .dataframe tbody tr th {\n",
       "        vertical-align: top;\n",
       "    }\n",
       "\n",
       "    .dataframe thead th {\n",
       "        text-align: right;\n",
       "    }\n",
       "</style>\n",
       "<table border=\"1\" class=\"dataframe\">\n",
       "  <thead>\n",
       "    <tr style=\"text-align: right;\">\n",
       "      <th></th>\n",
       "      <th>age</th>\n",
       "      <th>sexe</th>\n",
       "      <th>pression</th>\n",
       "      <th>cholester</th>\n",
       "      <th>electro</th>\n",
       "      <th>taux_max</th>\n",
       "      <th>angine</th>\n",
       "      <th>depression</th>\n",
       "      <th>pic</th>\n",
       "      <th>vaisseau</th>\n",
       "      <th>coeur</th>\n",
       "    </tr>\n",
       "  </thead>\n",
       "  <tbody>\n",
       "    <tr>\n",
       "      <th>0</th>\n",
       "      <td>58</td>\n",
       "      <td>masculin</td>\n",
       "      <td>100</td>\n",
       "      <td>234</td>\n",
       "      <td>A</td>\n",
       "      <td>156</td>\n",
       "      <td>non</td>\n",
       "      <td>1</td>\n",
       "      <td>1</td>\n",
       "      <td>B</td>\n",
       "      <td>presence</td>\n",
       "    </tr>\n",
       "    <tr>\n",
       "      <th>1</th>\n",
       "      <td>41</td>\n",
       "      <td>feminin</td>\n",
       "      <td>130</td>\n",
       "      <td>204</td>\n",
       "      <td>C</td>\n",
       "      <td>172</td>\n",
       "      <td>non</td>\n",
       "      <td>14</td>\n",
       "      <td>1</td>\n",
       "      <td>A</td>\n",
       "      <td>absence</td>\n",
       "    </tr>\n",
       "    <tr>\n",
       "      <th>2</th>\n",
       "      <td>58</td>\n",
       "      <td>masculin</td>\n",
       "      <td>150</td>\n",
       "      <td>270</td>\n",
       "      <td>C</td>\n",
       "      <td>111</td>\n",
       "      <td>oui</td>\n",
       "      <td>8</td>\n",
       "      <td>1</td>\n",
       "      <td>A</td>\n",
       "      <td>presence</td>\n",
       "    </tr>\n",
       "    <tr>\n",
       "      <th>3</th>\n",
       "      <td>53</td>\n",
       "      <td>masculin</td>\n",
       "      <td>140</td>\n",
       "      <td>203</td>\n",
       "      <td>C</td>\n",
       "      <td>155</td>\n",
       "      <td>oui</td>\n",
       "      <td>31</td>\n",
       "      <td>3</td>\n",
       "      <td>A</td>\n",
       "      <td>presence</td>\n",
       "    </tr>\n",
       "    <tr>\n",
       "      <th>4</th>\n",
       "      <td>41</td>\n",
       "      <td>masculin</td>\n",
       "      <td>130</td>\n",
       "      <td>214</td>\n",
       "      <td>C</td>\n",
       "      <td>168</td>\n",
       "      <td>non</td>\n",
       "      <td>20</td>\n",
       "      <td>2</td>\n",
       "      <td>A</td>\n",
       "      <td>absence</td>\n",
       "    </tr>\n",
       "    <tr>\n",
       "      <th>...</th>\n",
       "      <td>...</td>\n",
       "      <td>...</td>\n",
       "      <td>...</td>\n",
       "      <td>...</td>\n",
       "      <td>...</td>\n",
       "      <td>...</td>\n",
       "      <td>...</td>\n",
       "      <td>...</td>\n",
       "      <td>...</td>\n",
       "      <td>...</td>\n",
       "      <td>...</td>\n",
       "    </tr>\n",
       "    <tr>\n",
       "      <th>265</th>\n",
       "      <td>62</td>\n",
       "      <td>feminin</td>\n",
       "      <td>140</td>\n",
       "      <td>268</td>\n",
       "      <td>C</td>\n",
       "      <td>160</td>\n",
       "      <td>non</td>\n",
       "      <td>36</td>\n",
       "      <td>3</td>\n",
       "      <td>C</td>\n",
       "      <td>presence</td>\n",
       "    </tr>\n",
       "    <tr>\n",
       "      <th>266</th>\n",
       "      <td>62</td>\n",
       "      <td>masculin</td>\n",
       "      <td>130</td>\n",
       "      <td>231</td>\n",
       "      <td>A</td>\n",
       "      <td>146</td>\n",
       "      <td>non</td>\n",
       "      <td>18</td>\n",
       "      <td>2</td>\n",
       "      <td>D</td>\n",
       "      <td>absence</td>\n",
       "    </tr>\n",
       "    <tr>\n",
       "      <th>267</th>\n",
       "      <td>64</td>\n",
       "      <td>masculin</td>\n",
       "      <td>110</td>\n",
       "      <td>211</td>\n",
       "      <td>C</td>\n",
       "      <td>144</td>\n",
       "      <td>oui</td>\n",
       "      <td>18</td>\n",
       "      <td>2</td>\n",
       "      <td>A</td>\n",
       "      <td>absence</td>\n",
       "    </tr>\n",
       "    <tr>\n",
       "      <th>268</th>\n",
       "      <td>63</td>\n",
       "      <td>feminin</td>\n",
       "      <td>150</td>\n",
       "      <td>407</td>\n",
       "      <td>C</td>\n",
       "      <td>154</td>\n",
       "      <td>non</td>\n",
       "      <td>40</td>\n",
       "      <td>2</td>\n",
       "      <td>D</td>\n",
       "      <td>presence</td>\n",
       "    </tr>\n",
       "    <tr>\n",
       "      <th>269</th>\n",
       "      <td>35</td>\n",
       "      <td>feminin</td>\n",
       "      <td>138</td>\n",
       "      <td>183</td>\n",
       "      <td>A</td>\n",
       "      <td>182</td>\n",
       "      <td>non</td>\n",
       "      <td>14</td>\n",
       "      <td>1</td>\n",
       "      <td>A</td>\n",
       "      <td>absence</td>\n",
       "    </tr>\n",
       "  </tbody>\n",
       "</table>\n",
       "<p>270 rows × 11 columns</p>\n",
       "</div>"
      ],
      "text/plain": [
       "     age      sexe  pression  cholester electro  taux_max angine  depression  \\\n",
       "0     58  masculin       100        234       A       156    non           1   \n",
       "1     41   feminin       130        204       C       172    non          14   \n",
       "2     58  masculin       150        270       C       111    oui           8   \n",
       "3     53  masculin       140        203       C       155    oui          31   \n",
       "4     41  masculin       130        214       C       168    non          20   \n",
       "..   ...       ...       ...        ...     ...       ...    ...         ...   \n",
       "265   62   feminin       140        268       C       160    non          36   \n",
       "266   62  masculin       130        231       A       146    non          18   \n",
       "267   64  masculin       110        211       C       144    oui          18   \n",
       "268   63   feminin       150        407       C       154    non          40   \n",
       "269   35   feminin       138        183       A       182    non          14   \n",
       "\n",
       "     pic vaisseau     coeur  \n",
       "0      1        B  presence  \n",
       "1      1        A   absence  \n",
       "2      1        A  presence  \n",
       "3      3        A  presence  \n",
       "4      2        A   absence  \n",
       "..   ...      ...       ...  \n",
       "265    3        C  presence  \n",
       "266    2        D   absence  \n",
       "267    2        A   absence  \n",
       "268    2        D  presence  \n",
       "269    1        A   absence  \n",
       "\n",
       "[270 rows x 11 columns]"
      ]
     },
     "execution_count": 10,
     "metadata": {},
     "output_type": "execute_result"
    }
   ],
   "source": [
    "# drop sucre column car la variable sucre n'influence pas la variable cible\n",
    "df.drop(['sucre'], axis='columns', inplace=True)\n",
    "df"
   ]
  },
  {
   "cell_type": "code",
   "execution_count": 11,
   "id": "a33d8583",
   "metadata": {},
   "outputs": [],
   "source": [
    "# Step 4: Split the DataSet\n",
    "trainset, testset = train_test_split(df, test_size=0.2, random_state=0)"
   ]
  },
  {
   "cell_type": "code",
   "execution_count": 12,
   "id": "193ed9eb",
   "metadata": {},
   "outputs": [
    {
     "data": {
      "text/plain": [
       "absence     113\n",
       "presence    103\n",
       "Name: coeur, dtype: int64"
      ]
     },
     "execution_count": 12,
     "metadata": {},
     "output_type": "execute_result"
    }
   ],
   "source": [
    "trainset['coeur'].value_counts() #80%"
   ]
  },
  {
   "cell_type": "code",
   "execution_count": 13,
   "id": "670595c3",
   "metadata": {},
   "outputs": [
    {
     "data": {
      "text/plain": [
       "absence     37\n",
       "presence    17\n",
       "Name: coeur, dtype: int64"
      ]
     },
     "execution_count": 13,
     "metadata": {},
     "output_type": "execute_result"
    }
   ],
   "source": [
    "testset['coeur'].value_counts() #20%"
   ]
  },
  {
   "cell_type": "code",
   "execution_count": 14,
   "id": "34523ef9",
   "metadata": {},
   "outputs": [
    {
     "name": "stdout",
     "output_type": "stream",
     "text": [
      "Index(['masculin', 'feminin'], dtype='object')\n",
      "Index(['C', 'A', 'B'], dtype='object')\n",
      "Index(['non', 'oui'], dtype='object')\n",
      "Index(['A', 'B', 'C', 'D'], dtype='object')\n",
      "Index(['absence', 'presence'], dtype='object')\n"
     ]
    }
   ],
   "source": [
    "# Quelles sont les modalités des différentes variables ?\n",
    "var_quali_rev= ['sexe', 'electro', 'angine', 'vaisseau', 'coeur']\n",
    "for col in var_quali_rev:\n",
    "    print(df[col].value_counts().index) "
   ]
  },
  {
   "cell_type": "code",
   "execution_count": 15,
   "id": "bb039d9b",
   "metadata": {},
   "outputs": [],
   "source": [
    "# function of transformation\n",
    "def encodage(df):\n",
    "    code = {'masculin':0,\n",
    "            'feminin':1,\n",
    "            'A':0,\n",
    "            'B':1,\n",
    "            'C':2,\n",
    "            'D':3,\n",
    "            'oui':0,\n",
    "            'non':1,\n",
    "            'absence':0,\n",
    "            'presence':1\n",
    "           }\n",
    "    \n",
    "    for col in df.select_dtypes('object').columns:\n",
    "        df.loc[:,col] = df[col].map(code)\n",
    "        \n",
    "    return df"
   ]
  },
  {
   "cell_type": "code",
   "execution_count": 16,
   "id": "3cbce965",
   "metadata": {},
   "outputs": [],
   "source": [
    "# split X, y in trainset and testset\n",
    "def preprocessing(df):\n",
    "    \n",
    "    df = encodage(df)\n",
    "    \n",
    "    X = df.drop('coeur', axis='columns')\n",
    "    y = df['coeur']\n",
    "    \n",
    "    #print(y.value_counts())\n",
    "    \n",
    "    return X, y"
   ]
  },
  {
   "cell_type": "code",
   "execution_count": 17,
   "id": "a1566974",
   "metadata": {
    "scrolled": true
   },
   "outputs": [
    {
     "data": {
      "text/plain": [
       "(     age  sexe  pression  cholester  electro  taux_max  angine  depression  \\\n",
       " 0     58     0       100        234        0       156       1           1   \n",
       " 1     41     1       130        204        2       172       1          14   \n",
       " 2     58     0       150        270        2       111       0           8   \n",
       " 3     53     0       140        203        2       155       0          31   \n",
       " 4     41     0       130        214        2       168       1          20   \n",
       " ..   ...   ...       ...        ...      ...       ...     ...         ...   \n",
       " 265   62     1       140        268        2       160       1          36   \n",
       " 266   62     0       130        231        0       146       1          18   \n",
       " 267   64     0       110        211        2       144       0          18   \n",
       " 268   63     1       150        407        2       154       1          40   \n",
       " 269   35     1       138        183        0       182       1          14   \n",
       " \n",
       "      pic  vaisseau  \n",
       " 0      1         1  \n",
       " 1      1         0  \n",
       " 2      1         0  \n",
       " 3      3         0  \n",
       " 4      2         0  \n",
       " ..   ...       ...  \n",
       " 265    3         2  \n",
       " 266    2         3  \n",
       " 267    2         0  \n",
       " 268    2         3  \n",
       " 269    1         0  \n",
       " \n",
       " [270 rows x 10 columns],\n",
       " 0      1\n",
       " 1      0\n",
       " 2      1\n",
       " 3      1\n",
       " 4      0\n",
       "       ..\n",
       " 265    1\n",
       " 266    0\n",
       " 267    0\n",
       " 268    1\n",
       " 269    0\n",
       " Name: coeur, Length: 270, dtype: int64)"
      ]
     },
     "execution_count": 17,
     "metadata": {},
     "output_type": "execute_result"
    }
   ],
   "source": [
    "preprocessing(df)"
   ]
  },
  {
   "cell_type": "code",
   "execution_count": 18,
   "id": "be9cd45e",
   "metadata": {},
   "outputs": [
    {
     "data": {
      "text/html": [
       "<div>\n",
       "<style scoped>\n",
       "    .dataframe tbody tr th:only-of-type {\n",
       "        vertical-align: middle;\n",
       "    }\n",
       "\n",
       "    .dataframe tbody tr th {\n",
       "        vertical-align: top;\n",
       "    }\n",
       "\n",
       "    .dataframe thead th {\n",
       "        text-align: right;\n",
       "    }\n",
       "</style>\n",
       "<table border=\"1\" class=\"dataframe\">\n",
       "  <thead>\n",
       "    <tr style=\"text-align: right;\">\n",
       "      <th></th>\n",
       "      <th>age</th>\n",
       "      <th>sexe</th>\n",
       "      <th>pression</th>\n",
       "      <th>cholester</th>\n",
       "      <th>electro</th>\n",
       "      <th>taux_max</th>\n",
       "      <th>angine</th>\n",
       "      <th>depression</th>\n",
       "      <th>pic</th>\n",
       "      <th>vaisseau</th>\n",
       "    </tr>\n",
       "  </thead>\n",
       "  <tbody>\n",
       "    <tr>\n",
       "      <th>5</th>\n",
       "      <td>65</td>\n",
       "      <td>1</td>\n",
       "      <td>155</td>\n",
       "      <td>269</td>\n",
       "      <td>0</td>\n",
       "      <td>148</td>\n",
       "      <td>1</td>\n",
       "      <td>8</td>\n",
       "      <td>1</td>\n",
       "      <td>0</td>\n",
       "    </tr>\n",
       "    <tr>\n",
       "      <th>22</th>\n",
       "      <td>35</td>\n",
       "      <td>0</td>\n",
       "      <td>126</td>\n",
       "      <td>282</td>\n",
       "      <td>2</td>\n",
       "      <td>156</td>\n",
       "      <td>0</td>\n",
       "      <td>0</td>\n",
       "      <td>1</td>\n",
       "      <td>0</td>\n",
       "    </tr>\n",
       "    <tr>\n",
       "      <th>196</th>\n",
       "      <td>53</td>\n",
       "      <td>1</td>\n",
       "      <td>138</td>\n",
       "      <td>234</td>\n",
       "      <td>2</td>\n",
       "      <td>160</td>\n",
       "      <td>1</td>\n",
       "      <td>0</td>\n",
       "      <td>1</td>\n",
       "      <td>0</td>\n",
       "    </tr>\n",
       "    <tr>\n",
       "      <th>110</th>\n",
       "      <td>51</td>\n",
       "      <td>0</td>\n",
       "      <td>100</td>\n",
       "      <td>222</td>\n",
       "      <td>0</td>\n",
       "      <td>143</td>\n",
       "      <td>0</td>\n",
       "      <td>12</td>\n",
       "      <td>2</td>\n",
       "      <td>0</td>\n",
       "    </tr>\n",
       "    <tr>\n",
       "      <th>12</th>\n",
       "      <td>45</td>\n",
       "      <td>1</td>\n",
       "      <td>130</td>\n",
       "      <td>234</td>\n",
       "      <td>2</td>\n",
       "      <td>175</td>\n",
       "      <td>1</td>\n",
       "      <td>6</td>\n",
       "      <td>2</td>\n",
       "      <td>0</td>\n",
       "    </tr>\n",
       "    <tr>\n",
       "      <th>...</th>\n",
       "      <td>...</td>\n",
       "      <td>...</td>\n",
       "      <td>...</td>\n",
       "      <td>...</td>\n",
       "      <td>...</td>\n",
       "      <td>...</td>\n",
       "      <td>...</td>\n",
       "      <td>...</td>\n",
       "      <td>...</td>\n",
       "      <td>...</td>\n",
       "    </tr>\n",
       "    <tr>\n",
       "      <th>251</th>\n",
       "      <td>49</td>\n",
       "      <td>0</td>\n",
       "      <td>120</td>\n",
       "      <td>188</td>\n",
       "      <td>0</td>\n",
       "      <td>139</td>\n",
       "      <td>1</td>\n",
       "      <td>20</td>\n",
       "      <td>2</td>\n",
       "      <td>3</td>\n",
       "    </tr>\n",
       "    <tr>\n",
       "      <th>192</th>\n",
       "      <td>49</td>\n",
       "      <td>0</td>\n",
       "      <td>130</td>\n",
       "      <td>266</td>\n",
       "      <td>0</td>\n",
       "      <td>171</td>\n",
       "      <td>1</td>\n",
       "      <td>6</td>\n",
       "      <td>1</td>\n",
       "      <td>0</td>\n",
       "    </tr>\n",
       "    <tr>\n",
       "      <th>117</th>\n",
       "      <td>70</td>\n",
       "      <td>0</td>\n",
       "      <td>145</td>\n",
       "      <td>174</td>\n",
       "      <td>0</td>\n",
       "      <td>125</td>\n",
       "      <td>0</td>\n",
       "      <td>26</td>\n",
       "      <td>3</td>\n",
       "      <td>0</td>\n",
       "    </tr>\n",
       "    <tr>\n",
       "      <th>47</th>\n",
       "      <td>48</td>\n",
       "      <td>0</td>\n",
       "      <td>124</td>\n",
       "      <td>255</td>\n",
       "      <td>0</td>\n",
       "      <td>175</td>\n",
       "      <td>1</td>\n",
       "      <td>0</td>\n",
       "      <td>1</td>\n",
       "      <td>2</td>\n",
       "    </tr>\n",
       "    <tr>\n",
       "      <th>172</th>\n",
       "      <td>58</td>\n",
       "      <td>0</td>\n",
       "      <td>140</td>\n",
       "      <td>211</td>\n",
       "      <td>2</td>\n",
       "      <td>165</td>\n",
       "      <td>1</td>\n",
       "      <td>0</td>\n",
       "      <td>1</td>\n",
       "      <td>0</td>\n",
       "    </tr>\n",
       "  </tbody>\n",
       "</table>\n",
       "<p>216 rows × 10 columns</p>\n",
       "</div>"
      ],
      "text/plain": [
       "     age  sexe  pression  cholester  electro  taux_max  angine  depression  \\\n",
       "5     65     1       155        269        0       148       1           8   \n",
       "22    35     0       126        282        2       156       0           0   \n",
       "196   53     1       138        234        2       160       1           0   \n",
       "110   51     0       100        222        0       143       0          12   \n",
       "12    45     1       130        234        2       175       1           6   \n",
       "..   ...   ...       ...        ...      ...       ...     ...         ...   \n",
       "251   49     0       120        188        0       139       1          20   \n",
       "192   49     0       130        266        0       171       1           6   \n",
       "117   70     0       145        174        0       125       0          26   \n",
       "47    48     0       124        255        0       175       1           0   \n",
       "172   58     0       140        211        2       165       1           0   \n",
       "\n",
       "     pic  vaisseau  \n",
       "5      1         0  \n",
       "22     1         0  \n",
       "196    1         0  \n",
       "110    2         0  \n",
       "12     2         0  \n",
       "..   ...       ...  \n",
       "251    2         3  \n",
       "192    1         0  \n",
       "117    3         0  \n",
       "47     1         2  \n",
       "172    1         0  \n",
       "\n",
       "[216 rows x 10 columns]"
      ]
     },
     "execution_count": 18,
     "metadata": {},
     "output_type": "execute_result"
    }
   ],
   "source": [
    "X_train, y_train = preprocessing(trainset)\n",
    "X_train\n",
    "#y_train"
   ]
  },
  {
   "cell_type": "code",
   "execution_count": 19,
   "id": "c1fafa77",
   "metadata": {},
   "outputs": [],
   "source": [
    "X_test, y_test = preprocessing(testset)\n",
    "#X_test\n",
    "#y_test"
   ]
  },
  {
   "cell_type": "code",
   "execution_count": 20,
   "id": "8d11fe73",
   "metadata": {},
   "outputs": [],
   "source": [
    "# Feature Scaling\n",
    "sc = StandardScaler()\n",
    "X_train = sc.fit_transform(X_train)\n",
    "#X_train = sc.transform(X_train)\n",
    "X_test = sc.transform(X_test)"
   ]
  },
  {
   "cell_type": "code",
   "execution_count": 21,
   "id": "05fe7297",
   "metadata": {},
   "outputs": [
    {
     "data": {
      "text/plain": [
       "(array([[-0.91618427, -0.66332496,  0.49998499,  1.24750924, -1.08208202,\n",
       "         -1.26314492, -1.42907436,  0.63572002,  0.66881969,  1.37818618],\n",
       "        [ 0.79812696,  1.50755672,  0.38576314,  0.91597172, -1.08208202,\n",
       "         -1.86477513,  0.69975365,  0.72368641,  0.66881969,  2.42638411],\n",
       "        [ 0.69098251,  1.50755672,  0.78553961,  1.16950041,  0.93282933,\n",
       "         -0.14583166, -1.42907436, -0.06801105,  0.66881969, -0.7182097 ],\n",
       "        [-1.13047318, -0.66332496, -0.64223349,  0.3114033 , -1.08208202,\n",
       "          1.01445518,  0.69975365, -0.94767488, -0.97282864, -0.7182097 ],\n",
       "        [-0.38046201, -0.66332496,  0.49998499,  1.01348275, -1.08208202,\n",
       "          1.01445518, -1.42907436,  0.45978726, -0.97282864, -0.7182097 ],\n",
       "        [-0.05902866, -0.66332496, -1.32756458,  1.20850482, -1.08208202,\n",
       "          0.28390421,  0.69975365, -0.94767488, -0.97282864, -0.7182097 ],\n",
       "        [-1.77333989, -0.66332496, -0.64223349, -0.31266733, -1.08208202,\n",
       "          1.40121746, -1.42907436,  2.3950477 ,  0.66881969, -0.7182097 ],\n",
       "        [ 1.44099367, -0.66332496, -0.75645534,  0.5844342 , -1.08208202,\n",
       "          0.06903627,  0.69975365, -0.06801105, -0.97282864,  0.32998824],\n",
       "        [ 1.76242703,  1.50755672,  1.64220347,  1.07198937, -1.08208202,\n",
       "          0.54174573,  0.69975365, -0.59580935, -0.97282864,  1.37818618],\n",
       "        [ 0.58383806, -0.66332496, -0.81356626, -0.33216954, -1.08208202,\n",
       "          0.45579855, -1.42907436,  0.28385449, -0.97282864,  1.37818618],\n",
       "        [-1.45190653, -0.66332496, -1.09912088,  0.05787461, -1.08208202,\n",
       "          1.2722967 ,  0.69975365, -0.94767488, -0.97282864, -0.7182097 ],\n",
       "        [ 1.01241586,  1.50755672,  2.78442194,  1.52054013, -1.08208202,\n",
       "          0.19795703, -1.42907436, -0.94767488, -0.97282864, -0.7182097 ],\n",
       "        [-0.05902866,  1.50755672, -1.32756458,  0.38941213,  0.93282933,\n",
       "          0.75661366,  0.69975365, -0.94767488, -0.97282864, -0.7182097 ],\n",
       "        [-1.13047318, -0.66332496, -0.07112425, -0.54669381,  0.93282933,\n",
       "          1.65905898,  0.69975365, -0.94767488, -0.97282864, -0.7182097 ],\n",
       "        [ 0.0481158 , -0.66332496, -0.07112425,  0.29190109, -1.08208202,\n",
       "          0.24093062,  0.69975365, -0.94767488, -0.97282864, -0.7182097 ],\n",
       "        [-0.59475092, -0.66332496, -0.75645534, -1.91184831,  0.93282933,\n",
       "         -1.0053034 ,  0.69975365, -0.24394381, -0.97282864,  2.42638411],\n",
       "        [-0.05902866, -0.66332496, -0.4137898 ,  0.36990992,  0.93282933,\n",
       "         -1.73585437, -1.42907436,  0.98758556,  0.66881969,  0.32998824],\n",
       "        [ 0.15526025, -0.66332496, -0.07112425,  0.17488785,  0.93282933,\n",
       "         -0.31772601, -1.42907436, -0.41987658,  0.66881969,  0.32998824],\n",
       "        [ 0.0481158 , -0.66332496,  0.49998499, -0.58569823, -1.08208202,\n",
       "         -1.6499072 , -1.42907436,  3.97844261,  2.31046802, -0.7182097 ],\n",
       "        [-0.05902866,  1.50755672,  1.64220347, -0.89773354, -1.08208202,\n",
       "          0.58471931,  0.69975365, -0.94767488, -0.97282864,  0.32998824],\n",
       "        [ 1.54813812, -0.66332496,  1.64220347, -0.25416071,  0.93282933,\n",
       "         -0.79043546,  0.69975365, -0.8597085 ,  0.66881969,  0.32998824],\n",
       "        [-0.38046201, -0.66332496, -0.35667887, -0.66370706,  0.93282933,\n",
       "         -1.04827698, -1.42907436,  0.28385449, -0.97282864,  0.32998824],\n",
       "        [-1.02332873,  1.50755672, -1.09912088, -1.69732403, -1.08208202,\n",
       "         -0.48962036,  0.69975365, -0.94767488,  0.66881969, -0.7182097 ],\n",
       "        [ 0.15526025,  1.50755672,  3.92664042,  0.79895847,  0.93282933,\n",
       "         -0.70448829, -1.42907436,  2.57098047,  2.31046802,  1.37818618],\n",
       "        [ 0.2624047 , -0.66332496, -1.21334273, -0.89773354, -1.08208202,\n",
       "         -1.0053034 , -1.42907436,  0.37182087,  0.66881969, -0.7182097 ],\n",
       "        [ 1.11956032,  1.50755672,  1.64220347,  2.20311738,  0.93282933,\n",
       "          0.06903627,  0.69975365, -0.24394381, -0.97282864, -0.7182097 ],\n",
       "        [-0.91618427,  1.50755672,  0.61420683, -1.36578651,  0.93282933,\n",
       "          0.45579855, -1.42907436,  0.28385449,  2.31046802, -0.7182097 ],\n",
       "        [ 0.36954915,  1.50755672,  1.07109423,  0.70144744,  0.93282933,\n",
       "          0.54174573,  0.69975365, -0.06801105, -0.97282864, -0.7182097 ],\n",
       "        [-0.27331756, -0.66332496, -0.75645534, -1.19026665,  0.93282933,\n",
       "          1.74500615,  0.69975365, -0.94767488,  0.66881969, -0.7182097 ],\n",
       "        [-1.34476208, -0.66332496,  0.49998499, -0.41017836, -1.08208202,\n",
       "          1.22932311,  0.69975365, -0.94767488, -0.97282864, -0.7182097 ],\n",
       "        [-1.23761763, -0.66332496, -0.92778811,  1.09149158, -1.08208202,\n",
       "          1.35824387,  0.69975365,  0.10792172,  0.66881969, -0.7182097 ],\n",
       "        [ 0.58383806,  1.50755672,  1.07109423,  0.21389226,  0.93282933,\n",
       "          0.32687779,  0.69975365,  1.33945109,  0.66881969,  1.37818618],\n",
       "        [-0.16617311,  1.50755672, -0.07112425,  0.3309055 ,  0.93282933,\n",
       "         -0.27475242,  0.69975365, -0.59580935,  0.66881969, -0.7182097 ],\n",
       "        [ 0.36954915,  1.50755672, -0.64223349,  1.81307324, -1.08208202,\n",
       "          0.97148159,  0.69975365, -0.94767488, -0.97282864, -0.7182097 ],\n",
       "        [ 1.01241586, -0.66332496, -0.1853461 ,  0.3114033 , -1.08208202,\n",
       "         -1.90774872, -1.42907436, -0.77174212,  0.66881969,  0.32998824],\n",
       "        [-0.38046201,  1.50755672, -0.64223349,  0.93547392,  0.93282933,\n",
       "          0.32687779,  0.69975365, -0.41987658, -0.97282864, -0.7182097 ],\n",
       "        [ 1.33384922,  1.50755672,  1.18531607,  0.5844342 , -1.08208202,\n",
       "          0.97148159,  0.69975365, -0.94767488, -0.97282864,  0.32998824],\n",
       "        [-0.27331756, -0.66332496, -0.64223349,  1.52054013, -1.08208202,\n",
       "          0.97148159,  0.69975365, -0.77174212, -0.97282864, -0.7182097 ],\n",
       "        [ 1.11956032, -0.66332496,  0.21443037,  0.13588343,  0.93282933,\n",
       "         -0.96232981,  0.69975365,  1.51538386,  0.66881969,  0.32998824],\n",
       "        [-1.02332873, -0.66332496, -0.1853461 ,  1.18900261,  0.93282933,\n",
       "          0.88553442,  0.69975365, -0.94767488, -0.97282864, -0.7182097 ],\n",
       "        [-0.80903982, -0.66332496, -1.09912088, -0.83922692, -1.08208202,\n",
       "         -0.27475242,  0.69975365, -0.8597085 , -0.97282864, -0.7182097 ],\n",
       "        [ 0.58383806,  1.50755672, -1.67023012,  1.38402469, -1.08208202,\n",
       "          0.45579855,  0.69975365, -0.94767488, -0.97282864,  0.32998824],\n",
       "        [-1.45190653,  1.50755672, -0.29956795,  1.1499982 , -1.08208202,\n",
       "          0.58471931,  0.69975365, -0.94767488, -0.97282864, -0.7182097 ],\n",
       "        [-0.48760646, -0.66332496,  0.49998499, -0.27366291, -1.08208202,\n",
       "          0.58471931,  0.69975365, -0.41987658,  0.66881969,  0.32998824],\n",
       "        [ 1.01241586, -0.66332496, -0.35667887,  1.20850482, -1.08208202,\n",
       "         -0.79043546, -1.42907436,  0.63572002,  0.66881969, -0.7182097 ],\n",
       "        [-0.16617311, -0.66332496, -0.07112425, -0.97574237,  0.93282933,\n",
       "          0.11200986,  0.69975365,  0.10792172,  2.31046802, -0.7182097 ],\n",
       "        [-0.38046201,  1.50755672, -0.07112425,  0.17488785,  0.93282933,\n",
       "         -0.0169109 ,  0.69975365, -0.50784297, -0.97282864, -0.7182097 ],\n",
       "        [ 0.69098251, -0.66332496,  1.07109423, -0.07864084, -1.08208202,\n",
       "         -0.53259394, -1.42907436, -0.06801105,  0.66881969, -0.7182097 ],\n",
       "        [ 0.2624047 , -0.66332496,  1.18531607,  0.52592757, -1.08208202,\n",
       "         -2.63829969, -1.42907436,  0.10792172,  0.66881969,  0.32998824],\n",
       "        [-1.23761763,  1.50755672, -0.52801164, -0.66370706, -1.08208202,\n",
       "          0.67066649,  0.69975365, -0.77174212,  0.66881969, -0.7182097 ],\n",
       "        [-1.23761763, -0.66332496, -1.21334273, -0.70271147, -1.08208202,\n",
       "          0.49877214,  0.69975365, -0.94767488, -0.97282864, -0.7182097 ],\n",
       "        [ 0.15526025, -0.66332496, -0.64223349, -1.0537512 ,  0.93282933,\n",
       "          0.54174573,  0.69975365,  0.72368641,  0.66881969, -0.7182097 ],\n",
       "        [-0.27331756, -0.66332496, -1.32756458, -0.27366291, -1.08208202,\n",
       "         -0.10285808,  0.69975365, -0.8597085 , -0.97282864,  2.42638411],\n",
       "        [ 0.15526025,  1.50755672,  0.15731944,  3.15872553,  0.93282933,\n",
       "          0.02606268, -1.42907436,  0.72368641,  0.66881969,  1.37818618]]),\n",
       " array([[ 1.11956032,  1.50755672,  1.35664885, ..., -0.24394381,\n",
       "         -0.97282864, -0.7182097 ],\n",
       "        [-2.09477325, -0.66332496, -0.29956795, ..., -0.94767488,\n",
       "         -0.97282864, -0.7182097 ],\n",
       "        [-0.16617311,  1.50755672,  0.38576314, ..., -0.94767488,\n",
       "         -0.97282864, -0.7182097 ],\n",
       "        ...,\n",
       "        [ 1.65528258, -0.66332496,  0.78553961, ...,  1.33945109,\n",
       "          2.31046802, -0.7182097 ],\n",
       "        [-0.70189537, -0.66332496, -0.4137898 , ..., -0.94767488,\n",
       "         -0.97282864,  1.37818618],\n",
       "        [ 0.36954915, -0.66332496,  0.49998499, ..., -0.94767488,\n",
       "         -0.97282864, -0.7182097 ]]))"
      ]
     },
     "execution_count": 21,
     "metadata": {},
     "output_type": "execute_result"
    }
   ],
   "source": [
    "X_test,X_train"
   ]
  },
  {
   "cell_type": "markdown",
   "id": "171d45a6",
   "metadata": {},
   "source": [
    "### 3. Modelisation"
   ]
  },
  {
   "cell_type": "code",
   "execution_count": 22,
   "id": "8f084af1",
   "metadata": {},
   "outputs": [
    {
     "data": {
      "text/plain": [
       "LogisticRegression(random_state=0, solver='liblinear')"
      ]
     },
     "execution_count": 22,
     "metadata": {},
     "output_type": "execute_result"
    }
   ],
   "source": [
    "# Step 5: Perform Logistic Regression / buid model\n",
    "classifier = LogisticRegression(random_state=0, solver='liblinear')\n",
    "classifier.fit(X_train, y_train)"
   ]
  },
  {
   "cell_type": "code",
   "execution_count": 23,
   "id": "d0f98f9b",
   "metadata": {},
   "outputs": [
    {
     "data": {
      "text/plain": [
       "array([1, 1, 0, 0, 1, 0, 0, 0, 0, 1, 0, 0, 0, 0, 0, 1, 1, 1, 1, 0, 1, 1,\n",
       "       0, 1, 1, 0, 0, 0, 0, 0, 0, 1, 0, 0, 1, 0, 0, 0, 1, 0, 0, 0, 0, 1,\n",
       "       1, 0, 0, 1, 1, 0, 0, 0, 1, 1], dtype=int64)"
      ]
     },
     "execution_count": 23,
     "metadata": {},
     "output_type": "execute_result"
    }
   ],
   "source": [
    "# Step 6: Make prediction using the Model\n",
    "# Perform prediction using the test dataset\n",
    "y_pred = classifier.predict(X_test)\n",
    "y_pred"
   ]
  },
  {
   "cell_type": "code",
   "execution_count": 24,
   "id": "8052fd55",
   "metadata": {},
   "outputs": [
    {
     "data": {
      "text/plain": [
       "array([1], dtype=int64)"
      ]
     },
     "execution_count": 24,
     "metadata": {},
     "output_type": "execute_result"
    }
   ],
   "source": [
    "# prediction with new individual\n",
    "var = [24,0,120,250,1,150,1,15,2,1]\n",
    "x_predict = sc.transform([var])\n",
    "classifier.predict(x_predict)"
   ]
  },
  {
   "cell_type": "markdown",
   "id": "efdb9c17",
   "metadata": {},
   "source": [
    "### 4. Evaluation"
   ]
  },
  {
   "cell_type": "code",
   "execution_count": 25,
   "id": "dd253036",
   "metadata": {},
   "outputs": [
    {
     "name": "stdout",
     "output_type": "stream",
     "text": [
      "Le score du model est :0.8518518518518519\n"
     ]
    }
   ],
   "source": [
    "#Evaluation (Performance du modèle)\n",
    "s = classifier.score(X_test,y_test)\n",
    "print(f'Le score du model est :{s}')"
   ]
  },
  {
   "cell_type": "code",
   "execution_count": 26,
   "id": "49cc9702",
   "metadata": {},
   "outputs": [
    {
     "data": {
      "text/html": [
       "<div>\n",
       "<style scoped>\n",
       "    .dataframe tbody tr th:only-of-type {\n",
       "        vertical-align: middle;\n",
       "    }\n",
       "\n",
       "    .dataframe tbody tr th {\n",
       "        vertical-align: top;\n",
       "    }\n",
       "\n",
       "    .dataframe thead th {\n",
       "        text-align: right;\n",
       "    }\n",
       "</style>\n",
       "<table border=\"1\" class=\"dataframe\">\n",
       "  <thead>\n",
       "    <tr style=\"text-align: right;\">\n",
       "      <th></th>\n",
       "      <th>0</th>\n",
       "      <th>1</th>\n",
       "    </tr>\n",
       "  </thead>\n",
       "  <tbody>\n",
       "    <tr>\n",
       "      <th>0</th>\n",
       "      <td>31</td>\n",
       "      <td>6</td>\n",
       "    </tr>\n",
       "    <tr>\n",
       "      <th>1</th>\n",
       "      <td>2</td>\n",
       "      <td>15</td>\n",
       "    </tr>\n",
       "  </tbody>\n",
       "</table>\n",
       "</div>"
      ],
      "text/plain": [
       "    0   1\n",
       "0  31   6\n",
       "1   2  15"
      ]
     },
     "execution_count": 26,
     "metadata": {},
     "output_type": "execute_result"
    }
   ],
   "source": [
    "# Step 7 : Display mertics\n",
    "#**Confusion Matrix**\n",
    "cm = confusion_matrix(y_test, y_pred)\n",
    "pd.DataFrame(cm)\n",
    "#print(cm) #total=37"
   ]
  },
  {
   "cell_type": "code",
   "execution_count": 27,
   "id": "1e57e2b0",
   "metadata": {},
   "outputs": [
    {
     "name": "stdout",
     "output_type": "stream",
     "text": [
      "              precision    recall  f1-score   support\n",
      "\n",
      "           0       0.94      0.84      0.89        37\n",
      "           1       0.71      0.88      0.79        17\n",
      "\n",
      "    accuracy                           0.85        54\n",
      "   macro avg       0.83      0.86      0.84        54\n",
      "weighted avg       0.87      0.85      0.86        54\n",
      "\n"
     ]
    }
   ],
   "source": [
    "print(classification_report(y_test, y_pred))"
   ]
  },
  {
   "cell_type": "code",
   "execution_count": 28,
   "id": "89bdb533",
   "metadata": {},
   "outputs": [],
   "source": [
    "def taux_erreur(x1, x2):\n",
    "    contingence = pd.crosstab(x1, x2)\n",
    "    N = contingence.sum().sum()\n",
    "    Num = contingence.iloc[1, 0] + contingence.iloc[0, 1]\n",
    "    return round(Num/N * 100, 2)"
   ]
  },
  {
   "cell_type": "code",
   "execution_count": 29,
   "id": "44daa73f",
   "metadata": {},
   "outputs": [
    {
     "data": {
      "text/plain": [
       "14.81"
      ]
     },
     "execution_count": 29,
     "metadata": {},
     "output_type": "execute_result"
    }
   ],
   "source": [
    "taux_erreur(y_test, y_pred)"
   ]
  },
  {
   "cell_type": "markdown",
   "id": "7af01159",
   "metadata": {},
   "source": [
    "- Vrais négatifs: négatifs correctement prédits (zéros)\n",
    "- Vrais positifs: positifs correctement prédits (uns)\n",
    "- Faux négatifs: négatifs incorrectement prévus (zéros)\n",
    "- Faux positifs: positifs imprévus (uns)\n",
    "\n",
    "Vous évaluez généralement les performances de votre classificateur en comparant les sorties réelles et prévues et en comptant les prédictions correctes et incorrectes.\n",
    "\n",
    "L'indicateur ``le plus simple de précision de la classification est le rapport du nombre de prédictions correctes au nombre total de prédictions``(ou observations). Les autres indicateurs des classificateurs binaires sont les suivants:\n",
    "\n",
    "- La valeur prédictive positive est le rapport entre le nombre de vrais positifs et la somme des nombres de vrais et faux positifs.\n",
    "- La valeur prédictive négative est le rapport du nombre de vrais négatifs à la somme des nombres de vrais et de faux négatifs.\n",
    "- La sensibilité (également connu sous le nom de taux de rappel ou de vrai positif) est le rapport entre le nombre de vrais positifs et le nombre de positifs réels.\n",
    "- La spécificité (ou vrai taux négatif) est le rapport entre le nombre de vrais négatifs et le nombre de négatifs réels."
   ]
  },
  {
   "cell_type": "code",
   "execution_count": 30,
   "id": "bb44b603",
   "metadata": {},
   "outputs": [
    {
     "data": {
      "image/png": "[encoded data removed]",
      "text/plain": [
       "<IPython.core.display.Image object>"
      ]
     },
     "execution_count": 30,
     "metadata": {},
     "output_type": "execute_result"
    }
   ],
   "source": [
    "os.getcwd()\n",
    "os.chdir('C:/Users/Simplonco/Downloads/')\n",
    "Image(\"Capture1.PNG\")"
   ]
  }
 ],
 "metadata": {
  "kernelspec": {
   "display_name": "Python 3 (ipykernel)",
   "language": "python",
   "name": "python3"
  },
  "language_info": {
   "codemirror_mode": {
    "name": "ipython",
    "version": 3
   },
   "file_extension": ".py",
   "mimetype": "text/x-python",
   "name": "python",
   "nbconvert_exporter": "python",
   "pygments_lexer": "ipython3",
   "version": "3.9.4"
  }
 },
 "nbformat": 4,
 "nbformat_minor": 5
}
